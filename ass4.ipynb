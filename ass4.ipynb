{
 "cells": [
  {
   "cell_type": "code",
   "execution_count": 32,
   "id": "8ea724f4-4de7-4b5e-b9f7-b798bc9d0d5e",
   "metadata": {},
   "outputs": [],
   "source": [
    "#q1 \n",
    "\"\"\"objects are the real world entities that has an state,behaviour and entity.\n",
    "like- keyboard ,table,chair,etc.\n",
    "while class is a blueprint of objects or can say group of objects having common characteristics and behaviour like car,human,student,etc.\"\"\"\n",
    "#example:\n",
    "class Dog:\n",
    "    def __init__(self,name):\n",
    "        self.name=name\n",
    "    def return_namedog(s):\n",
    "        return s.name"
   ]
  },
  {
   "cell_type": "code",
   "execution_count": 33,
   "id": "d5255d1a-c2d9-44a9-a8a4-0a3d4aabfe68",
   "metadata": {},
   "outputs": [],
   "source": [
    "D=Dog(\"labrador\")"
   ]
  },
  {
   "cell_type": "code",
   "execution_count": 34,
   "id": "40bc6c9c-5131-4f16-8b52-1ef0a59b1e9b",
   "metadata": {},
   "outputs": [
    {
     "data": {
      "text/plain": [
       "'labrador'"
      ]
     },
     "execution_count": 34,
     "metadata": {},
     "output_type": "execute_result"
    }
   ],
   "source": [
    "D.name"
   ]
  },
  {
   "cell_type": "code",
   "execution_count": 35,
   "id": "938ee84a-055c-44b6-a135-6658f0917d6b",
   "metadata": {},
   "outputs": [
    {
     "data": {
      "text/plain": [
       "'labrador'"
      ]
     },
     "execution_count": 35,
     "metadata": {},
     "output_type": "execute_result"
    }
   ],
   "source": [
    "D.return_namedog()\n"
   ]
  },
  {
   "cell_type": "code",
   "execution_count": 36,
   "id": "aa08006e-1b2b-4acf-86ca-600f235d89d1",
   "metadata": {},
   "outputs": [
    {
     "data": {
      "text/plain": [
       "'The four pillars of the oops are- Abstraction,encapsulation,inheritance,polymorphism'"
      ]
     },
     "execution_count": 36,
     "metadata": {},
     "output_type": "execute_result"
    }
   ],
   "source": [
    "#q2 \n",
    "\"\"\"The four pillars of the oops are- Abstraction,encapsulation,inheritance,polymorphism\"\"\""
   ]
  },
  {
   "cell_type": "code",
   "execution_count": 37,
   "id": "87ddb8b4-1cc8-4363-a3bb-470b7d7d4a87",
   "metadata": {},
   "outputs": [],
   "source": [
    "#q3\n",
    "\"\"\"__init__ function() is used as an constructor for passing parameters by default when the obj is created.\"\"\"\n",
    "#below is an example:\n",
    "class  fruit:\n",
    "    def __init__(self,name,id):\n",
    "        self.name=name\n",
    "        self.id=id\n",
    "\n"
   ]
  },
  {
   "cell_type": "code",
   "execution_count": 39,
   "id": "176a9741-afa6-4931-a48b-45a69132d503",
   "metadata": {},
   "outputs": [],
   "source": [
    "f=fruit(\"apple\",1001)"
   ]
  },
  {
   "cell_type": "code",
   "execution_count": 40,
   "id": "f1aa453e-99d4-4b2f-bb3c-fb3a5e2a20f2",
   "metadata": {},
   "outputs": [
    {
     "data": {
      "text/plain": [
       "'apple'"
      ]
     },
     "execution_count": 40,
     "metadata": {},
     "output_type": "execute_result"
    }
   ],
   "source": [
    "f.name"
   ]
  },
  {
   "cell_type": "code",
   "execution_count": 41,
   "id": "9a6ff54b-34c8-4c8f-bd4d-88e5e198b421",
   "metadata": {},
   "outputs": [
    {
     "data": {
      "text/plain": [
       "1001"
      ]
     },
     "execution_count": 41,
     "metadata": {},
     "output_type": "execute_result"
    }
   ],
   "source": [
    "f.id"
   ]
  },
  {
   "cell_type": "code",
   "execution_count": 46,
   "id": "01e2cc3a-14ec-4aee-a8cc-642781652d77",
   "metadata": {},
   "outputs": [],
   "source": [
    "#q4\n",
    "\"\"\"self is used in oops to represent an instance of a class which allows you to access attributes of an object.\"\"\"  \n",
    "#example below\n",
    "class  fruit:\n",
    "    def __init__(self,name,id):\n",
    "        self.name=name\n",
    "        self.id=id\n"
   ]
  },
  {
   "cell_type": "code",
   "execution_count": 49,
   "id": "f5748bcb-e2fb-4eaf-a475-e56f8eebd199",
   "metadata": {},
   "outputs": [
    {
     "data": {
      "text/plain": [
       "'papaya'"
      ]
     },
     "execution_count": 49,
     "metadata": {},
     "output_type": "execute_result"
    }
   ],
   "source": [
    "f=fruit(\"papaya\",1002)\n",
    "f.name"
   ]
  },
  {
   "cell_type": "code",
   "execution_count": 1,
   "id": "389b4a2c-25ae-45c2-ac2f-d2785874a374",
   "metadata": {},
   "outputs": [
    {
     "data": {
      "text/plain": [
       "'Inheritance is the capability to inherit the properties from the already existing class.\\nThere are 5 types of inheritance :\\n1.single inheritance\\n2.multiple inheritance\\n3.multilevel inheritance \\n'"
      ]
     },
     "execution_count": 1,
     "metadata": {},
     "output_type": "execute_result"
    }
   ],
   "source": [
    "#q5\n",
    "\"\"\"Inheritance is the capability to inherit the properties from the already existing class.\n",
    "There are 5 types of inheritance :\n",
    "1.single inheritance\n",
    "2.multiple inheritance\n",
    "3.multilevel inheritance \n",
    "\"\"\"\n"
   ]
  },
  {
   "cell_type": "code",
   "execution_count": 5,
   "id": "b7757783-a235-4f22-9022-531160388856",
   "metadata": {},
   "outputs": [],
   "source": [
    "#example of single inheritance:\n",
    "class A:\n",
    "    def A_name(self):\n",
    "        return  \"this is class A\"\n",
    "class B(A):    \n",
    "       pass \n",
    "    "
   ]
  },
  {
   "cell_type": "code",
   "execution_count": 6,
   "id": "a3fd05cb-e6ff-4a29-83b4-424ea7996120",
   "metadata": {},
   "outputs": [],
   "source": [
    "obj=B()"
   ]
  },
  {
   "cell_type": "code",
   "execution_count": 7,
   "id": "2d223346-beda-4af5-beca-97371eaab66e",
   "metadata": {},
   "outputs": [
    {
     "data": {
      "text/plain": [
       "'this is class A'"
      ]
     },
     "execution_count": 7,
     "metadata": {},
     "output_type": "execute_result"
    }
   ],
   "source": [
    "obj.A_name()"
   ]
  },
  {
   "cell_type": "code",
   "execution_count": 8,
   "id": "53a03989-ca67-482d-b93c-7d9f454573f6",
   "metadata": {},
   "outputs": [],
   "source": [
    "#example of multilevel inheritance\n",
    "class Animal:\n",
    "    def class1(self):\n",
    "        return \"this is class1\"\n",
    "class Animal2(Animal):        \n",
    "    def class2(self):\n",
    "        return \"rthis is class2\"\n",
    "class Animal3(Animal2):        \n",
    "    def class3(self):\n",
    "        pass"
   ]
  },
  {
   "cell_type": "code",
   "execution_count": 9,
   "id": "c21306d4-3e8a-487e-a035-c31e2a058b90",
   "metadata": {},
   "outputs": [],
   "source": [
    "obj3=Animal3()"
   ]
  },
  {
   "cell_type": "code",
   "execution_count": 10,
   "id": "53014f69-166f-44cc-b90d-492f072dd748",
   "metadata": {},
   "outputs": [
    {
     "data": {
      "text/plain": [
       "'rthis is class2'"
      ]
     },
     "execution_count": 10,
     "metadata": {},
     "output_type": "execute_result"
    }
   ],
   "source": [
    "obj3.class2()"
   ]
  },
  {
   "cell_type": "code",
   "execution_count": 11,
   "id": "4e2e6ba4-02eb-4d54-b32c-9b1a99c58a49",
   "metadata": {},
   "outputs": [
    {
     "data": {
      "text/plain": [
       "'this is class1'"
      ]
     },
     "execution_count": 11,
     "metadata": {},
     "output_type": "execute_result"
    }
   ],
   "source": [
    "obj3.class1()"
   ]
  },
  {
   "cell_type": "code",
   "execution_count": 12,
   "id": "70290bd3-2b25-486b-92e8-09381979dcfe",
   "metadata": {},
   "outputs": [],
   "source": [
    "#example of multiple inheritance:\n",
    "class bank:\n",
    "    def bname(self):\n",
    "        return \"this is SBI bank\"\n",
    "class bank2:\n",
    "    def bname1(self):\n",
    "        return \"this is BOI bank\"\n",
    "\n",
    "    "
   ]
  },
  {
   "cell_type": "code",
   "execution_count": 13,
   "id": "5ac334ee-dca4-41eb-ad3e-14c009d44296",
   "metadata": {},
   "outputs": [],
   "source": [
    "class bank3(bank,bank2):\n",
    "    pass"
   ]
  },
  {
   "cell_type": "code",
   "execution_count": 14,
   "id": "1ea70acd-9c47-4c18-80da-9856218c61b5",
   "metadata": {},
   "outputs": [],
   "source": [
    "obj3=bank3()"
   ]
  },
  {
   "cell_type": "code",
   "execution_count": 15,
   "id": "e49f07b2-b273-47a6-9f3a-63717de0d743",
   "metadata": {},
   "outputs": [
    {
     "data": {
      "text/plain": [
       "'this is BOI bank'"
      ]
     },
     "execution_count": 15,
     "metadata": {},
     "output_type": "execute_result"
    }
   ],
   "source": [
    "obj3.bname1()"
   ]
  },
  {
   "cell_type": "code",
   "execution_count": 16,
   "id": "c16cb06c-8966-4252-8932-585520cc8a6d",
   "metadata": {},
   "outputs": [
    {
     "data": {
      "text/plain": [
       "'this is SBI bank'"
      ]
     },
     "execution_count": 16,
     "metadata": {},
     "output_type": "execute_result"
    }
   ],
   "source": [
    "obj3.bname()"
   ]
  },
  {
   "cell_type": "code",
   "execution_count": null,
   "id": "34b223d4-0d98-4d9b-bec7-5792ec5a0181",
   "metadata": {},
   "outputs": [],
   "source": []
  }
 ],
 "metadata": {
  "kernelspec": {
   "display_name": "Python 3 (ipykernel)",
   "language": "python",
   "name": "python3"
  },
  "language_info": {
   "codemirror_mode": {
    "name": "ipython",
    "version": 3
   },
   "file_extension": ".py",
   "mimetype": "text/x-python",
   "name": "python",
   "nbconvert_exporter": "python",
   "pygments_lexer": "ipython3",
   "version": "3.10.8"
  }
 },
 "nbformat": 4,
 "nbformat_minor": 5
}
